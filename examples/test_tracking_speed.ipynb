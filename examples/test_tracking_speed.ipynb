{
 "cells": [
  {
   "cell_type": "markdown",
   "metadata": {},
   "source": [
    "# Evaluating the Pynta program\n",
    "\n",
    "This notebook was developed for testing the time limitations of the Pynta program. The design of Pynta allows it to run without a GUI, therefore this notebook can also be used as a reference for performing experiments. \n",
    "\n",
    "Data will be simulated data, through the module called SimBrownian. \n",
    "**Important**: Data is very clean, no background, no noise."
   ]
  },
  {
   "cell_type": "code",
   "execution_count": 34,
   "metadata": {},
   "outputs": [],
   "source": [
    "import os\n",
    "from multiprocessing import Queue, Process, Event\n",
    "from threading import Thread\n",
    "from time import sleep\n",
    "import numpy as np\n",
    "from pynta import BASE_DIR\n",
    "from pynta.model.experiment.nano_cet.win_nanocet import NanoCET\n",
    "from pynta.model.cameras.simulate_brownian import SimBrownian\n",
    "from pynta.model.experiment.subscriber import subscribe"
   ]
  },
  {
   "cell_type": "markdown",
   "metadata": {},
   "source": [
    "## Parameters that can change in the evaluation\n",
    "\n",
    "The main parameter to change in this notebook is the number of particles in an image, since this is most likely the one that is going to affect the most the final outcome for the tracking algorithm. \n",
    "\n",
    "It is important to note that other parameters such as particle diameter (in pixels) also has a big role in total execution time."
   ]
  },
  {
   "cell_type": "code",
   "execution_count": 96,
   "metadata": {},
   "outputs": [],
   "source": [
    "frames_to_accumulate = 0  # How many frames SimBrownian will accumulate\n",
    "num_particles = 50  # Number of particles in a given image\n",
    "pcle_diameter = 3  # In pixels"
   ]
  },
  {
   "cell_type": "markdown",
   "metadata": {},
   "source": [
    "**Before running the cell below**, it is important to check whether the experiment has finalized correctly. If it hasn't, ZMQ will complain about the port being in use, but this warning will appear on the console, not on the notebook."
   ]
  },
  {
   "cell_type": "code",
   "execution_count": 97,
   "metadata": {},
   "outputs": [],
   "source": [
    "SimBrownian.num_particles = num_particles\n",
    "SimBrownian.frames_to_accumulate = frames_to_accumulate\n",
    "config_file = os.path.join(BASE_DIR, 'util', 'example_config.yml')\n",
    "exp = NanoCET(config_file)\n",
    "exp.initialize_camera()\n",
    "exp.config['tracking']['locate']['diameter'] = pcle_diameter"
   ]
  },
  {
   "cell_type": "markdown",
   "metadata": {},
   "source": [
    "## Start free run and tracking\n",
    "We will start both tracking and the free run of the camera. SimBrownian has the possibility of accumulating frames into memory in order to loop through them instead of keep simulating data. If this parameter is set to a value other than 0, then you have to be careful with the fact that statistics will make no sense."
   ]
  },
  {
   "cell_type": "code",
   "execution_count": 98,
   "metadata": {},
   "outputs": [],
   "source": [
    "exp.start_tracking()\n",
    "exp.start_free_run()"
   ]
  },
  {
   "cell_type": "markdown",
   "metadata": {},
   "source": [
    "# Consume location timing information\n",
    "In order to check the time it takes to perform a localization, we have developed the function below, which will be listening for a specific topic. \n",
    "\n",
    "This is a great example on how to extend the functionality of Pynta without altering the code base. In this case, we listent on a socket and push the data to a Queue. We perform this work-around in order to get the data out of the multi-processing realm, but you are free to follow different paths.\n",
    "\n",
    "In order to stop the thread, you will need to do:\n",
    "```\n",
    "event.set()\n",
    "```\n",
    "\n",
    "And you will be able to check whether it worked by:\n",
    "```\n",
    "p.is_alive()\n",
    "```"
   ]
  },
  {
   "cell_type": "code",
   "execution_count": 99,
   "metadata": {},
   "outputs": [],
   "source": [
    "loc_queue = Queue()\n",
    "event = Event()\n",
    "\n",
    "def consume_location(queue, event):\n",
    "    socket = subscribe(5555, 'locations_time')\n",
    "    sleep(1)\n",
    "    while not event.is_set():\n",
    "        topic = socket.recv_string()\n",
    "        data = socket.recv_pyobj()\n",
    "        queue.put(data)\n",
    "    socket.close()\n",
    "p = Thread(target=consume_location, args=[loc_queue, event])\n",
    "p.start()"
   ]
  },
  {
   "cell_type": "markdown",
   "metadata": {},
   "source": [
    "## Finishing\n",
    "Once you have finished with the measurements, you can stop the experiment and the ``consume_locations`` thread. It is not mandatory to do it at this time, you can first inspect the data and decide whether you would like to generate more or not. "
   ]
  },
  {
   "cell_type": "code",
   "execution_count": 126,
   "metadata": {},
   "outputs": [],
   "source": [
    "# sleep(30)\n",
    "exp.stop_tracking()\n",
    "exp.stop_free_run()\n",
    "exp.finalize()\n",
    "event.set()"
   ]
  },
  {
   "cell_type": "markdown",
   "metadata": {},
   "source": [
    "## Analyzing the temporal data\n",
    "\n",
    "We will need to get the data from a queue into a usable format. We are accumulating information on the time it took to perfom a location and the number of particles on each frame. We can read the queue and then transform the data to a numpy array. First, let's create an empty list, be sure not to overwrite it, or you will loose the information stored in it."
   ]
  },
  {
   "cell_type": "code",
   "execution_count": 100,
   "metadata": {},
   "outputs": [],
   "source": [
    "temp_data = []"
   ]
  },
  {
   "cell_type": "code",
   "execution_count": 129,
   "metadata": {},
   "outputs": [
    {
     "name": "stdout",
     "output_type": "stream",
     "text": [
      "Temp Data length:  6571\n",
      "Average time:  0.016721088761808736\n",
      "Average particles:  49.797595495358394\n"
     ]
    }
   ],
   "source": [
    "while not loc_queue.empty():\n",
    "    temp_data.append(loc_queue.get())\n",
    "print('Temp Data length: ', len(temp_data))\n",
    "t_data = np.array(temp_data)\n",
    "print('Average time: ', np.mean(t_data[:,0]))\n",
    "print('Average particles: ', np.mean(t_data[:,1]))"
   ]
  },
  {
   "cell_type": "markdown",
   "metadata": {},
   "source": [
    "## Plot the data\n",
    "\n",
    "If we want to look at the data, we can make a plot, for example of the number of particles detected and the time it took, or a histogram of times."
   ]
  },
  {
   "cell_type": "code",
   "execution_count": 67,
   "metadata": {},
   "outputs": [],
   "source": [
    "import matplotlib.pyplot as plt"
   ]
  },
  {
   "cell_type": "code",
   "execution_count": 102,
   "metadata": {},
   "outputs": [
    {
     "data": {
      "text/plain": [
       "Text(0, 0.5, 'Time to localize particles (ms)')"
      ]
     },
     "execution_count": 102,
     "metadata": {},
     "output_type": "execute_result"
    },
    {
     "name": "stderr",
     "output_type": "stream",
     "text": [
      "Generating a frame takes longer than exposure time\n",
      "Generating a frame takes longer than exposure time\n",
      "Generating a frame takes longer than exposure time\n",
      "Generating a frame takes longer than exposure time\n"
     ]
    },
    {
     "data": {
      "image/png": "[encoded data removed]",
      "text/plain": [
       "<Figure size 432x288 with 1 Axes>"
      ]
     },
     "metadata": {
      "needs_background": "light"
     },
     "output_type": "display_data"
    },
    {
     "name": "stderr",
     "output_type": "stream",
     "text": [
      "Generating a frame takes longer than exposure time\n"
     ]
    }
   ],
   "source": [
    "plt.plot(t_data[:,1], 1000*t_data[:,0], 'o')\n",
    "plt.xlabel('Number of particles in the frame')\n",
    "plt.ylabel('Time to localize particles (ms)')"
   ]
  },
  {
   "cell_type": "code",
   "execution_count": 132,
   "metadata": {},
   "outputs": [
    {
     "data": {
      "image/png": "[encoded data removed]",
      "text/plain": [
       "<Figure size 432x288 with 1 Axes>"
      ]
     },
     "metadata": {
      "needs_background": "light"
     },
     "output_type": "display_data"
    }
   ],
   "source": [
    "plt.hist(1000*t_data[t_data[:,0]<.7,0], bins=50)\n",
    "plt.xlabel('Time to process a frame (ms)')\n",
    "plt.ylabel('Number of frames')\n",
    "plt.title(f'Number of particles: {num_particles}')\n",
    "plt.savefig(f'hist_{num_particles}.png')"
   ]
  },
  {
   "cell_type": "code",
   "execution_count": null,
   "metadata": {},
   "outputs": [],
   "source": []
  }
 ],
 "metadata": {
  "kernelspec": {
   "display_name": "Python 3",
   "language": "python",
   "name": "python3"
  },
  "language_info": {
   "codemirror_mode": {
    "name": "ipython",
    "version": 3
   },
   "file_extension": ".py",
   "mimetype": "text/x-python",
   "name": "python",
   "nbconvert_exporter": "python",
   "pygments_lexer": "ipython3",
   "version": "3.6.8"
  }
 },
 "nbformat": 4,
 "nbformat_minor": 2
}
